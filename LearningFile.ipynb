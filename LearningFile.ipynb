{
  "nbformat": 4,
  "nbformat_minor": 0,
  "metadata": {
    "accelerator": "GPU",
    "colab": {
      "name": "LearningFile.ipynb",
      "private_outputs": true,
      "provenance": [],
      "collapsed_sections": [],
      "toc_visible": true
    },
    "kernelspec": {
      "display_name": "Python 3",
      "language": "python",
      "name": "python3"
    },
    "language_info": {
      "codemirror_mode": {
        "name": "ipython",
        "version": 3
      },
      "file_extension": ".py",
      "mimetype": "text/x-python",
      "name": "python",
      "nbconvert_exporter": "python",
      "pygments_lexer": "ipython3",
      "version": "3.8.5"
    }
  },
  "cells": [
    {
      "cell_type": "markdown",
      "metadata": {
        "id": "DQmXeuU0j3yF"
      },
      "source": [
        "# **Классификация с помощью сверточной нейронной сети**"
      ]
    },
    {
      "cell_type": "markdown",
      "metadata": {
        "id": "GMl6FQlariFu"
      },
      "source": [
        "## **Подготовка**"
      ]
    },
    {
      "cell_type": "markdown",
      "metadata": {
        "id": "Uy9DDF3Oj-fL"
      },
      "source": [
        "### **Сделаем, чтобы тесты были воспроиводимы на одном notebook(одинаковые нач состояния)**"
      ]
    },
    {
      "cell_type": "code",
      "metadata": {
        "id": "GmcTKnX5XQtL"
      },
      "source": [
        "import torch\n",
        "import random\n",
        "import numpy as np\n",
        "\n",
        "random.seed(0)\n",
        "np.random.seed(0)\n",
        "torch.manual_seed(0)\n",
        "torch.cuda.manual_seed(0)\n",
        "torch.backends.cudnn.determenistic = True"
      ],
      "execution_count": null,
      "outputs": []
    },
    {
      "cell_type": "markdown",
      "metadata": {
        "id": "-n6hNQkRkJfy"
      },
      "source": [
        "### **Импорт датасет**"
      ]
    },
    {
      "cell_type": "code",
      "metadata": {
        "id": "NyMhDzzog4jg"
      },
      "source": [
        "import torchvision.datasets\n",
        "MNIST_train = torchvision.datasets.MNIST('./', download=True, train=True)\n",
        "MNIST_test = torchvision.datasets.MNIST('./', download=True, train=False)"
      ],
      "execution_count": null,
      "outputs": []
    },
    {
      "cell_type": "code",
      "metadata": {
        "id": "I5driXnAhbIc"
      },
      "source": [
        "X_train = MNIST_train.train_data\n",
        "y_train = MNIST_train.train_labels\n",
        "X_test = MNIST_test.test_data\n",
        "y_test = MNIST_test.test_labels;"
      ],
      "execution_count": null,
      "outputs": []
    },
    {
      "cell_type": "markdown",
      "metadata": {
        "id": "anasIKy1kOKy"
      },
      "source": [
        "### **Узнать тип**"
      ]
    },
    {
      "cell_type": "code",
      "metadata": {
        "id": "xtqQl_DTh0x9"
      },
      "source": [
        "X_train.dtype, y_train.dtype"
      ],
      "execution_count": null,
      "outputs": []
    },
    {
      "cell_type": "markdown",
      "metadata": {
        "id": "aQ6MAPVFkQzg"
      },
      "source": [
        "### **Конвертация в флоат**"
      ]
    },
    {
      "cell_type": "code",
      "metadata": {
        "id": "7P5XMZzXh5WN"
      },
      "source": [
        "X_train = X_train.float()\n",
        "X_test = X_test.float()"
      ],
      "execution_count": null,
      "outputs": []
    },
    {
      "cell_type": "markdown",
      "metadata": {
        "id": "tR2Ew4FgkTNs"
      },
      "source": [
        "### **Узнать форму**"
      ]
    },
    {
      "cell_type": "code",
      "metadata": {
        "id": "PtVafmX_iLgB"
      },
      "source": [
        "X_train.shape, X_test.shape"
      ],
      "execution_count": null,
      "outputs": []
    },
    {
      "cell_type": "code",
      "metadata": {
        "id": "4JjmVRekiR-N"
      },
      "source": [
        "y_train.shape, y_test.shape"
      ],
      "execution_count": null,
      "outputs": []
    },
    {
      "cell_type": "markdown",
      "metadata": {
        "id": "KB1jfQoEj2oS"
      },
      "source": [
        "### **Отрисовка одной цифры**"
      ]
    },
    {
      "cell_type": "code",
      "metadata": {
        "id": "O72F7hfQjZUv"
      },
      "source": [
        "import matplotlib.pyplot as plt\n",
        "plt.imshow(X_train[0, :, :])\n",
        "plt.show()\n",
        "print(y_train[0])"
      ],
      "execution_count": null,
      "outputs": []
    },
    {
      "cell_type": "markdown",
      "metadata": {
        "id": "8swdg9t3mSQJ"
      },
      "source": [
        "### **Изменим размерность**"
      ]
    },
    {
      "cell_type": "code",
      "metadata": {
        "id": "ylsht0UtipGd"
      },
      "source": [
        "X_train.shape"
      ],
      "execution_count": null,
      "outputs": []
    },
    {
      "cell_type": "code",
      "metadata": {
        "id": "73-JkS_rmU_B"
      },
      "source": [
        "X_train = X_train.unsqueeze(1).float()\n",
        "X_test = X_test.unsqueeze(1).float()"
      ],
      "execution_count": null,
      "outputs": []
    },
    {
      "cell_type": "markdown",
      "metadata": {
        "id": "juKUc3aWmt-z"
      },
      "source": [
        "# **Нейросеть и обучение**"
      ]
    },
    {
      "cell_type": "markdown",
      "metadata": {
        "id": "nPfwVR7kropN"
      },
      "source": [
        "### **Нейросеть**"
      ]
    },
    {
      "cell_type": "code",
      "metadata": {
        "id": "14Mt1gmImx6S"
      },
      "source": [
        "class LeNet5(torch.nn.Module):\n",
        "  def __init__(self):\n",
        "    super(LeNet5, self).__init__()\n",
        "    self.conv1 = torch.nn.Conv2d(\n",
        "       in_channels = 1, out_channels=6, kernel_size=5, padding=2)\n",
        "    self.act1 = torch.nn.ReLU()\n",
        "    self.pool1 = torch.nn.MaxPool2d(kernel_size=2, stride=2)\n",
        "\n",
        "    self.conv2 = torch.nn.Conv2d(\n",
        "       in_channels = 6, out_channels=16, kernel_size=5, padding=0)\n",
        "    self.act2 = torch.nn.ReLU()\n",
        "    self.pool2 = torch.nn.MaxPool2d(kernel_size=2, stride=2)\n",
        "\n",
        "    self.fc1 = torch.nn.Linear(5*5*16, 120)\n",
        "    self.act3 = torch.nn.Sigmoid()\n",
        "\n",
        "    self.fc2 = torch.nn.Linear(120, 84)\n",
        "    self.act4 = torch.nn.Sigmoid()\n",
        "\n",
        "    self.fc3 = torch.nn.Linear(84, 10)\n",
        "\n",
        "  def forward(self, x):\n",
        "    x = self.conv1(x)\n",
        "    x = self.act1(x)\n",
        "    x = self.pool1(x)\n",
        "\n",
        "    x = self.conv2(x)\n",
        "    x = self.act2(x)\n",
        "    x = self.pool2(x)\n",
        "\n",
        "    x = x.view(x.size(0), x.size(1) * x.size(2) * x.size(3))\n",
        "\n",
        "    x = self.fc1(x)\n",
        "    x = self.act3(x)\n",
        "    x = self.fc2(x)\n",
        "    x = self.act4(x)\n",
        "    x = self.fc3(x)\n",
        "\n",
        "    return x\n",
        "\n",
        "\n",
        "lenet5_net = LeNet5()"
      ],
      "execution_count": null,
      "outputs": []
    },
    {
      "cell_type": "code",
      "metadata": {
        "id": "Ff_HuACrCJTq"
      },
      "source": [
        "torch.cuda.is_available() #видит ли торч гпу"
      ],
      "execution_count": null,
      "outputs": []
    },
    {
      "cell_type": "code",
      "metadata": {
        "id": "Ih15guhXCuXR"
      },
      "source": [
        "!nvidia-smi #узнать, есть ли вычисления на видеокарте"
      ],
      "execution_count": null,
      "outputs": []
    },
    {
      "cell_type": "code",
      "metadata": {
        "id": "YJzPTW1vDoY7"
      },
      "source": [
        "#device = torch.device('cuda:0' if torch.cuda.is_available() else 'cpu')\n",
        "device = torch.device('cpu')\n",
        "\n",
        "lenet5_net = lenet5_net.to(device)"
      ],
      "execution_count": null,
      "outputs": []
    },
    {
      "cell_type": "markdown",
      "metadata": {
        "id": "8mfyTUO7nuT9"
      },
      "source": [
        "### **Функция потерь и оптимизатор**"
      ]
    },
    {
      "cell_type": "code",
      "metadata": {
        "id": "pFy6CRPkoLAH"
      },
      "source": [
        "loss = torch.nn.CrossEntropyLoss()\n",
        "optimizer = torch.optim.SGD(lenet5_net.parameters(), momentum=0.7, lr=0.01)"
      ],
      "execution_count": null,
      "outputs": []
    },
    {
      "cell_type": "markdown",
      "metadata": {
        "id": "L4rbrPWxrMcu"
      },
      "source": [
        "### **Обучение**"
      ]
    },
    {
      "cell_type": "code",
      "metadata": {
        "id": "8iNDR7i9rPdF"
      },
      "source": [
        "batch_size = 100\n",
        "\n",
        "test_accuracy_history = []\n",
        "test_loss_history = []\n",
        "# train_loss_history = []\n",
        "\n",
        "X_test = X_test.to(device) # перекладываем на другой девайс\n",
        "y_test = y_test.to(device) # перекладываем на другой девайс\n",
        "\n",
        "for epoch in range(10000):\n",
        "  order = np.random.permutation(len(X_train))\n",
        "  for start_index in range(0, len(X_train), batch_size):\n",
        "    optimizer.zero_grad()\n",
        "\n",
        "    batch_indexes = order[start_index:start_index+batch_size]\n",
        "\n",
        "    X_batch = X_train[batch_indexes].to(device) # приставка .to(device) см. выше\n",
        "    y_batch = y_train[batch_indexes].to(device) # приставка .to(device) см. выше\n",
        "\n",
        "    preds = lenet5_net.forward(X_batch)\n",
        "    \n",
        "    loss_value = loss(preds, y_batch)\n",
        "    loss_value.backward()\n",
        "\n",
        "    optimizer.step()\n",
        "\n",
        "  test_preds = lenet5_net.forward(X_test)\n",
        "  test_loss_history.append(loss(test_preds, y_test).data.cpu())\n",
        "\n",
        "  accuracy = (test_preds.argmax(dim=1)==y_test).float().mean().data.cpu()\n",
        "  test_accuracy_history.append(accuracy)\n",
        "\n",
        "  print(\"Эпоха:{}, точность:{}\".format(epoch,accuracy))"
      ],
      "execution_count": null,
      "outputs": []
    },
    {
      "cell_type": "markdown",
      "metadata": {
        "id": "ofPr5oODRVUm"
      },
      "source": [
        "### **Графики точности и функции потерь**"
      ]
    },
    {
      "cell_type": "code",
      "metadata": {
        "id": "oeNAk7CcRUgU"
      },
      "source": [
        "import matplotlib.pyplot as plt\n",
        "\n",
        "import pylab\n",
        "\n",
        "\n",
        "\n",
        "fig = plt.figure(figsize=(20, 6))\n",
        "plt.subplot(121)\n",
        "plt.plot(test_accuracy_history, c='r')\n",
        "plt.title(\"accuracy\")\n",
        "\n",
        "plt.subplot(122)\n",
        "plt.plot(test_loss_history)\n",
        "#plt.plot(train_loss_history, c='g')\n",
        "plt.title(\"loss\")\n",
        "\n",
        "plt.show()"
      ],
      "execution_count": null,
      "outputs": []
    },
    {
      "cell_type": "markdown",
      "metadata": {
        "id": "yyzU6BtHPjPC"
      },
      "source": [
        "### **Полезные команды**"
      ]
    },
    {
      "cell_type": "code",
      "metadata": {
        "id": "6RvX9ip6G1Vv"
      },
      "source": [
        "import pickle\n",
        "with open('model.pickle', 'wb') as f:\n",
        "  pickle.dump(lenet5_net, f)\n",
        "# with open('model.pickle', 'rb') as f:\n",
        "#   data_new = pickle.load(f)\n",
        "from google.colab import files\n",
        "files.download('model.pickle')\n",
        "  "
      ],
      "execution_count": null,
      "outputs": []
    }
  ]
}